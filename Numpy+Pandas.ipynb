{
 "cells": [
  {
   "cell_type": "markdown",
   "metadata": {},
   "source": [
    "# Workshop: Numpy and Pandas\n",
    "\n",
    "This workshop will cover the basics of the Numpy and Pandas libraries. Numpy is a library for working with arrays of data, while Pandas is a library for data manipulation and analysis. These libraries are commonly used in data science and machine learning projects.\n",
    "\n",
    "They are both huge libraries, and we will only cover a small portion of their functionality. However, we will cover the most important parts, in order to know how to use them combined with other libraries, such as Matplotlib or Scikit-learn, which we will cover in future workshops."
   ]
  },
  {
   "cell_type": "code",
   "execution_count": 2,
   "metadata": {},
   "outputs": [],
   "source": [
    "import numpy as np"
   ]
  },
  {
   "cell_type": "markdown",
   "metadata": {},
   "source": [
    "#### Exercise 1: Convert a list into a numpy array\n",
    "\n",
    "The objective of this exercise is to convert a list into a numpy array. The list is given below:"
   ]
  },
  {
   "cell_type": "code",
   "execution_count": 2,
   "metadata": {},
   "outputs": [
    {
     "data": {
      "text/plain": [
       "list"
      ]
     },
     "execution_count": 2,
     "metadata": {},
     "output_type": "execute_result"
    }
   ],
   "source": [
    "list = [1, 2, 3, 4, 5]\n",
    "\n",
    "#### Your Code Here ####\n",
    "\n",
    "# list = \n",
    "\n",
    "#### End Code ####\n",
    "\n",
    "# Type need to be: numpy.ndarray\n",
    "type(list)\n"
   ]
  },
  {
   "cell_type": "markdown",
   "metadata": {},
   "source": [
    "#### Exercise 2: How to create a numpy array\n",
    "\n",
    "There is 6 ways to create a numpy array:\n",
    "- An array of zeros\n",
    "- An array of ones\n",
    "- An empty array\n",
    "- An array of the n first integers\n",
    "- An array of random values between -1 and 1\n",
    "- An array of random values between x and y"
   ]
  },
  {
   "cell_type": "code",
   "execution_count": 3,
   "metadata": {},
   "outputs": [
    {
     "name": "stdout",
     "output_type": "stream",
     "text": [
      "\n",
      "\n",
      "\n",
      "\n",
      "\n"
     ]
    }
   ],
   "source": [
    "# An array of zeros\n",
    "\n",
    "# An array of ones\n",
    "\n",
    "# An empty array\n",
    "\n",
    "# An array of the n first integers\n",
    "\n",
    "# An array of random values between -1 and 1\n",
    "\n",
    "# An array of random values between x and y"
   ]
  },
  {
   "cell_type": "markdown",
   "metadata": {},
   "source": [
    "#### Exercise 3: The slicing of a numpy array\n",
    "\n",
    "The objective of this exercise is to understand how to slice a numpy array."
   ]
  },
  {
   "cell_type": "code",
   "execution_count": 5,
   "metadata": {},
   "outputs": [
    {
     "name": "stdout",
     "output_type": "stream",
     "text": [
      "\n",
      "\n",
      "\n",
      "\n",
      "\n",
      "\n"
     ]
    }
   ],
   "source": [
    "array = np.random.randn(10)\n",
    "\n",
    "# Get the first three elements\n",
    "\n",
    "# Get the last two elements\n",
    "\n",
    "# Get the elements from index 4 to 7\n",
    "\n",
    "# Get all the elements with negative values\n",
    "\n",
    "# Set all the elements with negative values to 0\n",
    "\n",
    "# Get the elements 3, 4 and 8"
   ]
  },
  {
   "cell_type": "markdown",
   "metadata": {},
   "source": [
    "#### Exercise 4: Operators on numpy arrays\n",
    "\n",
    "The objective of this exercise is to understand how to use operators on numpy arrays."
   ]
  },
  {
   "cell_type": "code",
   "execution_count": 8,
   "metadata": {},
   "outputs": [
    {
     "name": "stdout",
     "output_type": "stream",
     "text": [
      "[ 0.65316312 -0.78217078  0.16509356 -0.29606621 -0.4645205  -0.54520192\n",
      "  0.05862832  1.0254878   0.43324823 -0.37963916]\n"
     ]
    }
   ],
   "source": [
    "array = np.random.randn(10)\n",
    "print(array)\n",
    "\n",
    "# Add 10 to all the elements\n",
    "\n",
    "# Multiply all the elements by 2\n",
    "\n",
    "# Get a boolean array with True for all the elements that are greater than 0\n"
   ]
  },
  {
   "cell_type": "markdown",
   "metadata": {},
   "source": [
    "#### Exercise 5: Data Exploration\n",
    "\n",
    "The objective of this exercise is to know how to explore the data."
   ]
  },
  {
   "cell_type": "code",
   "execution_count": null,
   "metadata": {},
   "outputs": [],
   "source": [
    "array = np.random.randn(10)\n",
    "\n",
    "# Get the mean of the array\n",
    "\n",
    "# Get the sum of the array\n",
    "\n",
    "# Get the maximum value of the array\n",
    "\n",
    "# Reshape the array to a 2x5 array\n",
    "\n",
    "# Get the max value of each row\n",
    "\n",
    "# Count the non zero values"
   ]
  },
  {
   "cell_type": "markdown",
   "metadata": {},
   "source": [
    "# Combining Pandas and Numpy\n",
    "\n",
    "Pandas is a library that is built on top of Numpy. It is used to manipulate data in a tabular form. It is mainly used to manipulate data in a dataframe.\n",
    "\n",
    "#### Exercise 6: Load a dataset using Pandas"
   ]
  },
  {
   "cell_type": "code",
   "execution_count": 12,
   "metadata": {},
   "outputs": [
    {
     "name": "stdout",
     "output_type": "stream",
     "text": [
      "[]\n"
     ]
    }
   ],
   "source": [
    "import pandas as pd\n",
    "\n",
    "# Read using pandas this csv : https://storage.googleapis.com/download.tensorflow.org/data/abalone_train.csv\n",
    "# Set the column names to: \"Length\", \"Diameter\", \"Height\", \"Whole weight\", \"Shucked weight\", \"Viscera weight\", \"Shell weight\", \"Age\"\n",
    "\n",
    "# dataframe = \n",
    "\n",
    "# Print the startings rows of the dataframe\n",
    "\n",
    "# Print the last rows of the dataframe\n"
   ]
  },
  {
   "cell_type": "markdown",
   "metadata": {},
   "source": [
    "#### Exercise 7: Data Exploration\n",
    "\n",
    "The objective of this exercise is to extract information from the dataset."
   ]
  },
  {
   "cell_type": "code",
   "execution_count": 1,
   "metadata": {},
   "outputs": [],
   "source": [
    "# Print the maximum value of the \"Height\" column\n",
    "\n",
    "# Print the mean value of the \"Height\" column\n",
    "\n",
    "# Print the minimum value of the \"Height\" column\n",
    "\n",
    "# Print all the previously mentioned values for the \"Length\" column in a unique line\n",
    "\n",
    "# Print the number of rows, columns and type of each column\n"
   ]
  },
  {
   "cell_type": "markdown",
   "metadata": {},
   "source": [
    "#### Exercise 8: Dataframe Recreating\n",
    "\n",
    "The objective of this exercise is to recreate a dataframe from the first one."
   ]
  },
  {
   "cell_type": "code",
   "execution_count": null,
   "metadata": {},
   "outputs": [],
   "source": [
    "# Create a new column called \"Volume\" with the fomula: Length * Diameter * Height * pi / 4\n",
    "\n",
    "# Create a new colum called \"Young\" with the value 1 if the age is less than 9 and 0 otherwise\n",
    "\n",
    "# Remove the column \"Shucked weight\"\n",
    "\n",
    "# Sort the dataframe by the \"Age\" column"
   ]
  },
  {
   "cell_type": "markdown",
   "metadata": {},
   "source": [
    "#### Exercise 9: Data Manipulation\n",
    "\n",
    "The objective of this exercise is to manipulate the data in order to extract information from it."
   ]
  },
  {
   "cell_type": "code",
   "execution_count": null,
   "metadata": {},
   "outputs": [],
   "source": [
    "# Sum all the values of the \"Age\" column and divide it by the number of rows\n",
    "\n",
    "# Replace all the values of the \"Age\" column that are less than 10 by 0"
   ]
  }
 ],
 "metadata": {
  "kernelspec": {
   "display_name": "Python 3",
   "language": "python",
   "name": "python3"
  },
  "language_info": {
   "codemirror_mode": {
    "name": "ipython",
    "version": 3
   },
   "file_extension": ".py",
   "mimetype": "text/x-python",
   "name": "python",
   "nbconvert_exporter": "python",
   "pygments_lexer": "ipython3",
   "version": "3.11.4"
  },
  "orig_nbformat": 4
 },
 "nbformat": 4,
 "nbformat_minor": 2
}
