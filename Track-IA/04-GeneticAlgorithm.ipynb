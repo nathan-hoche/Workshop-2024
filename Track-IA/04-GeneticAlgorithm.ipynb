{
 "cells": [
  {
   "cell_type": "markdown",
   "metadata": {},
   "source": [
    "# Workshop: Genetic Algorithms\n",
    "\n",
    "The objective of this workshop is to implement a genetic algorithm to solve the traveling salesman problem.\n",
    "\n",
    "The genetic algorithm is a heuristic search algorithm inspired by the process of natural selection. It is used to find approximate solutions to optimization and search problems. The algorithm is based on the idea of evolution by natural selection. It starts with a population of individuals (possible solutions) and uses three operators to evolve the population: selection, crossover, and mutation. The algorithm is iterative and at each iteration, it selects the best individuals from the population, combines them using crossover, and mutates the resulting individuals. The process is repeated until a stopping criterion is met.\n",
    "\n",
    "The traveling salesman problem (TSP) is a well-known combinatorial optimization problem. The objective is to find the shortest route that visits each city in a given list exactly once and then returns to the starting city. The problem is NP-hard and the number of possible solutions grows exponentially with the number of cities. Therefore, it is not possible to find the optimal solution for large instances of the problem. The genetic algorithm is a good candidate to find approximate solutions to the problem."
   ]
  },
  {
   "cell_type": "code",
   "execution_count": 2,
   "metadata": {},
   "outputs": [],
   "source": [
    "# THE DATA TO STUDY\n",
    "\n",
    "DATA = [\n",
    "    {\"name\":\"A\", \"coordonnée\": (0.40, 0.55)},\n",
    "    {\"name\":\"B\", \"coordonnée\": (0.22, 0.32)},\n",
    "    {\"name\":\"C\", \"coordonnée\": (0.35, 0.47)},\n",
    "    {\"name\":\"D\", \"coordonnée\": (0.33, 0.58)},\n",
    "    {\"name\":\"E\", \"coordonnée\": (0.65, 0.35)},\n",
    "    {\"name\":\"F\", \"coordonnée\": (0.75, 0.28)},\n",
    "    {\"name\":\"G\", \"coordonnée\": (0.68, 0.27)},\n",
    "    {\"name\":\"H\", \"coordonnée\": (0.25, 0.45)},\n",
    "    {\"name\":\"I\", \"coordonnée\": (0.78, 0.35)},\n",
    "    {\"name\":\"J\", \"coordonnée\": (0.9, 0.5)},\n",
    "    {\"name\":\"K\", \"coordonnée\": (0.75, 0.5)},\n",
    "    {\"name\":\"L\", \"coordonnée\": (0.85, 0.45)},\n",
    "    {\"name\":\"M\", \"coordonnée\": (0.25, 0.5)},\n",
    "    {\"name\":\"N\", \"coordonnée\": (0.9, 0.25)},\n",
    "    {\"name\":\"O\", \"coordonnée\": (0.25, 0.75)},\n",
    "    {\"name\":\"P\", \"coordonnée\": (0.35, 0.15)},\n",
    "    {\"name\":\"Q\", \"coordonnée\": (0.5, 0.25)},\n",
    "    {\"name\":\"R\", \"coordonnée\": (0.5, 0.75)},\n",
    "    {\"name\":\"S\", \"coordonnée\": (0.15, 0.35)},\n",
    "    {\"name\":\"T\", \"coordonnée\": (0.15, 0.85)},\n",
    "    {\"name\":\"U\", \"coordonnée\": (0.65, 0.65)},\n",
    "    {\"name\":\"V\", \"coordonnée\": (0.75, 0.75)},\n",
    "    {\"name\":\"W\", \"coordonnée\": (0.85, 0.85)},\n",
    "    {\"name\":\"X\", \"coordonnée\": (0.15, 0.15)},\n",
    "    {\"name\":\"Y\", \"coordonnée\": (0.25, 0.25)},\n",
    "    {\"name\":\"Z\", \"coordonnée\": (0.85, 0.15)},\n",
    "]"
   ]
  },
  {
   "cell_type": "markdown",
   "metadata": {},
   "source": [
    "The goal of this workshop is to implement a genetic algorithm to find the shortest route for the given list of cities. The shortest route wille be measured by the total Euclidean distance traveled.\n",
    "\n",
    "The genetic algorithm is divided into multiple steps:\n",
    "1. Create an initial population of individuals (possible solutions).\n",
    "2. Evaluate the fitness of each individual.\n",
    "3. Select the best individuals from the population.\n",
    "4. Combine the selected individuals using crossover.\n",
    "5. Mutate the resulting individuals.\n",
    "6. Repeat steps 2-5 until a stopping criterion is met.\n",
    "\n",
    "Each exercise in this workshop will implement a step of the genetic algorithm, and at the end of the workshop, you will have a complete implementation of the algorithm."
   ]
  },
  {
   "cell_type": "markdown",
   "metadata": {},
   "source": [
    "#### Exercise 1: Create an initial population of individuals\n",
    "\n",
    "The first step of the genetic algorithm is to create an initial population of individuals. Each individual represents a possible solution to the problem. In this exercise, you will create a function that generates a random individual.\n",
    "\n",
    "This individual will be a list of cities."
   ]
  },
  {
   "cell_type": "code",
   "execution_count": 3,
   "metadata": {},
   "outputs": [],
   "source": []
  },
  {
   "cell_type": "markdown",
   "metadata": {},
   "source": [
    "#### Exercise 2: Evaluate the fitness of each individual\n",
    "\n",
    "The second step of the genetic algorithm is to evaluate the fitness of each individual. The fitness of an individual is a measure of how good the individual is. In this exercise, you will create a function that calculates the fitness of an individual. The fitness of an individual is the total Euclidean distance traveled."
   ]
  },
  {
   "cell_type": "code",
   "execution_count": 4,
   "metadata": {},
   "outputs": [],
   "source": []
  },
  {
   "cell_type": "markdown",
   "metadata": {},
   "source": [
    "#### Exercise 3: Select the best individuals from the population\n",
    "\n",
    "The third step of the genetic algorithm is to select the best individuals from the population. In this exercise, you will create a function that selects the best individuals from the population. The function will use the fitness of each individual to select the best individuals.\n",
    "\n",
    "The Selection can be done in multiple ways:\n",
    "- Roulette wheel selection\n",
    "- Rank selection\n",
    "- Tournament selection\n",
    "- Elitism\n",
    "- Steady-state selection\n",
    "- ...\n",
    "\n",
    "In this exercise, you can use the one that you prefer or create your own."
   ]
  },
  {
   "cell_type": "code",
   "execution_count": null,
   "metadata": {},
   "outputs": [],
   "source": []
  },
  {
   "cell_type": "markdown",
   "metadata": {},
   "source": [
    "#### Exercise 4: Combine the selected individuals using crossover\n",
    "\n",
    "The fourth step of the genetic algorithm is to combine the selected individuals using crossover. In this exercise, you will create a function that combines the selected individuals using crossover.\n",
    "\n",
    "The crossover can be implemented in different ways:\n",
    "- One-point crossover\n",
    "- Multi-point crossover\n",
    "- Uniform crossover\n",
    "- Swap crossover\n",
    "- Blend crossover\n",
    "- ...\n",
    "\n",
    "Search for the most appropriate crossover and implement it."
   ]
  },
  {
   "cell_type": "code",
   "execution_count": null,
   "metadata": {},
   "outputs": [],
   "source": []
  },
  {
   "cell_type": "markdown",
   "metadata": {},
   "source": [
    "#### Exercise 5: Mutate the resulting individuals\n",
    "\n",
    "The fifth step of the genetic algorithm is to mutate the resulting individuals. In this exercise, you will create a function that mutates the resulting individuals.\n",
    "\n",
    "The mutation can be implemented in different ways:\n",
    "- Swap mutation\n",
    "- Scramble mutation\n",
    "- Inversion mutation\n",
    "- Insertion mutation\n",
    "- ...\n",
    "\n",
    "Use the one that you prefer or create your own."
   ]
  },
  {
   "cell_type": "code",
   "execution_count": null,
   "metadata": {},
   "outputs": [],
   "source": [
    "\n"
   ]
  },
  {
   "cell_type": "markdown",
   "metadata": {},
   "source": [
    "#### Exercise 6: Architect the genetic algorithm\n",
    "\n",
    "Now that you have implemented all the steps of the genetic algorithm, you will architect the genetic algorithm. In this exercise, you will create the main function of your genetic algorithm.\n",
    "\n",
    "You will have a population of 100 individuals. The genetic algorithm will run for 20 iterations.\n",
    "\n",
    "> check that your algorithm is working by running it for a small number of iterations (e.g., 5 iterations). And verify that the learning process is working."
   ]
  },
  {
   "cell_type": "code",
   "execution_count": null,
   "metadata": {},
   "outputs": [],
   "source": []
  },
  {
   "cell_type": "markdown",
   "metadata": {},
   "source": [
    "\n",
    "# Challenge\n",
    "\n",
    "Now that you have implemented the genetic algorithm, try to improve it. You can try to use different selection, crossover, and mutation operators. You can also try to change the population size and the number of iterations. Try to the most appropriate parameters for your problem.\n",
    "\n",
    "# Conclusion\n",
    "\n",
    "In this workshop, you have implemented a simple genetic algorithm to solve a simple problem. But the genetic algorithm is a very powerful algorithm that can efficiently solve a wide range of problems. It is sometime considered as a general-purpose optimization algorithm. It is used in many fields such as engineering, economics, finance, biology, computer science, ...\n",
    "\n",
    "# To go further\n",
    "\n",
    "The genetic algorithm is a very powerful algorithm that can be used to solve many problems. You can try to use it to solve other problems. For example, you can try to use it to solve the knapsack problem, the n-queens problem, the graph coloring problem, ...\n",
    "\n",
    "Or for more advanced users, you can try to implement other evolutionary algorithms such as the genetic programming, the evolution strategy, the differential evolution, ..."
   ]
  }
 ],
 "metadata": {
  "kernelspec": {
   "display_name": "Python 3",
   "language": "python",
   "name": "python3"
  },
  "language_info": {
   "codemirror_mode": {
    "name": "ipython",
    "version": 3
   },
   "file_extension": ".py",
   "mimetype": "text/x-python",
   "name": "python",
   "nbconvert_exporter": "python",
   "pygments_lexer": "ipython3",
   "version": "3.12.1"
  },
  "orig_nbformat": 4
 },
 "nbformat": 4,
 "nbformat_minor": 2
}
