{
 "cells": [
  {
   "cell_type": "markdown",
   "metadata": {},
   "source": [
    "# Workshop: Genetic Programming\n",
    "\n",
    "The objective of this workshop is to implement a genetic programming algorithm to evolve a program that can solve the Lunar Lander problem.\n",
    "\n",
    "The Lunar Lander problem is a classic reinforcement learning problem where the objective is to land a spacecraft on the moon. The spacecraft has two engines that can be used to control the spacecraft. The engines can be turned on or off, and the thrust of each engine can be set to one of three levels: -1, 0, or 1. The spacecraft has a limited amount of fuel, and the goal is to land the spacecraft on the moon with as little fuel as possible.\n",
    "\n",
    "To use the Lunar Lander problem in this workshop, we will use the [OpenAI Gym](https://gym.openai.com/) library. The OpenAI Gym library provides a collection of reinforcement learning problems, including the Lunar Lander problem. The OpenAI Gym library also provides a Python interface to the Lunar Lander problem, which we will use in this workshop.\n",
    "\n",
    "> Multiple problem can resolve during your installation of OpenAI Gym (If you have any problem with the Box2D installation, here are some [PythonH error](https://stackoverflow.com/questions/21530577/fatal-error-python-h-no-such-file-or-directory), [Swig error](https://stackoverflow.com/questions/54252800/python-cant-install-box2d-swig-exe-failed-with-error-code-1)"
   ]
  },
  {
   "cell_type": "code",
   "execution_count": 1,
   "metadata": {},
   "outputs": [],
   "source": [
    "import gymnasium as gym\n",
    "\n",
    "def get_env():\n",
    "    return gym.make('LunarLander-v2', render_mode=\"rgb_array\")\n"
   ]
  },
  {
   "cell_type": "markdown",
   "metadata": {},
   "source": [
    "### Difference between Genetic Algorithm and Genetic Programming\n",
    "\n",
    "To help you on how to implement the genetic programming algorithm, here are some differences between genetic algorithm and genetic programming:\n",
    "1. Genetic programming uses a tree structure to represent the solution, while genetic algorithm uses a vector of values. The numbers of values can be different for each solution in Genetic Programming, while the number of values is the same for each solution in Genetic Algorithm.\n",
    "2. The mutation operator is different. In genetic programming, the mutation operator can change the structure of the tree, while in genetic algorithm, the mutation operator can only change the values in the vector.\n"
   ]
  },
  {
   "cell_type": "markdown",
   "metadata": {},
   "source": [
    "#### Exercise 1: Create an individual class\n",
    "\n",
    "The first step is to create a class to represent an individual in the population. The individual class will represent a program that can solve the Lunar Lander problem. The individual class will also be used to represent the population of individuals.\n",
    "\n",
    "The individual class will have the following attributes:\n",
    "1. `env`: Its own environment to evaluate the fitness.\n",
    "2. `Instructions list`: The list of instructions that make up the program with instructions at the creation.\n",
    "3. `Fitness`: The fitness of the individual (setted while the evaluation).\n",
    "4. `Evaluate method`: The method that will evaluate the individual.\n",
    "5. `Mutate method`: The method that will mutate the individual.\n",
    "\n",
    "> If you evaluate the individual with a setted seed, you will have better training results (because the environment will be the same for each individual)."
   ]
  },
  {
   "cell_type": "code",
   "execution_count": 2,
   "metadata": {},
   "outputs": [],
   "source": [
    "class Individual():\n",
    "    def __init__(self) -> None:\n",
    "        self.env = get_env()\n",
    "        self.instructions = [self.env.action_space.sample() for _ in range(200)]\n",
    "        self.fitness = 0\n",
    "        self.depth = 200\n",
    "\n",
    "    def evaluate(self):\n",
    "        self.env.reset(seed=42)\n",
    "        for instruction in self.instructions:\n",
    "            observation, reward, done, truncated, info = self.env.step(instruction)\n",
    "            self.fitness += reward\n",
    "            if done:\n",
    "                break\n",
    "        return self.fitness\n"
   ]
  },
  {
   "cell_type": "markdown",
   "metadata": {},
   "source": [
    "#### Exercise 2: Create a population class\n",
    "\n",
    "The second step is to create a class to represent a population of individuals. The population class will represent a population of programs that can solve the Lunar Lander problem. This will be the main class of the genetic programming algorithm.\n",
    "\n",
    "First, the population class will have the following attributes:\n",
    "1. `a population of individuals`: The list of individuals that make up the population. (setted at the creation)\n",
    "2. `a population size`: The size of the population. (setted at the creation)\n",
    "3. `a best individual`: The best individual in the population. (setted during the evaluation)\n",
    "4. `an evaluation method`: The method that will evaluate the population.\n",
    "5. `a selection method`: The method that will select the individuals to reproduce.\n",
    "6. `a reproduction method`: The method that will reproduce the individuals.\n",
    "7. `a mutation method`: The method that will mutate the individuals."
   ]
  },
  {
   "cell_type": "code",
   "execution_count": 3,
   "metadata": {},
   "outputs": [],
   "source": [
    "import random\n",
    "\n",
    "class Population():\n",
    "    def __init__(self, size) -> None:\n",
    "        self.size = size\n",
    "        self.individuals = [Individual() for _ in range(size)]\n",
    "        self.generation = 0\n",
    "        self.best = None\n",
    "        self.best_fitness = -1000\n",
    "\n",
    "    def evaluate(self):\n",
    "        for individual in self.individuals:\n",
    "            individual.evaluate()\n",
    "            if individual.fitness > self.best_fitness:\n",
    "                self.best = individual\n",
    "                self.best_fitness = individual.fitness\n",
    "    \n",
    "    def select(self):\n",
    "        self.individuals.sort(key=lambda x: x.fitness, reverse=True)\n",
    "        self.individuals = self.individuals[:self.size//2]\n",
    "        self.size = len(self.individuals)\n",
    "    \n",
    "    def crossover(self):\n",
    "        for i in range(self.size):\n",
    "            parent1 = self.individuals[0]\n",
    "            parent2 = self.individuals[i]\n",
    "            child = Individual()\n",
    "            random_index = random.randint(0, parent1.depth-1)\n",
    "            child.instructions = parent1.instructions[:random_index] + parent2.instructions[random_index:]\n",
    "            child.depth = len(child.instructions)\n",
    "            self.individuals.append(child)\n",
    "        self.size = len(self.individuals)\n",
    "    \n",
    "    def mutate(self):\n",
    "        for individual in self.individuals:\n",
    "            random_index = random.randint(0, individual.depth-1)\n",
    "            if (random.random() < 0.1):\n",
    "                individual.instructions[random_index] = individual.env.action_space.sample()\n",
    "            elif (random.random() < 0.4):\n",
    "                individual.instructions.append(individual.env.action_space.sample())\n",
    "                individual.depth += 1\n",
    "            elif (random.random() < 0.45 and individual.depth > 1):\n",
    "                individual.instructions.pop(random_index)\n",
    "                individual.depth -= 1"
   ]
  },
  {
   "cell_type": "markdown",
   "metadata": {},
   "source": [
    "### Exercise 3: Create a main function\n",
    "\n",
    "The third step is to create a main function to run the genetic programming algorithm. The main function will create a population of individuals, evaluate the population, and evolve the population."
   ]
  },
  {
   "cell_type": "code",
   "execution_count": 19,
   "metadata": {},
   "outputs": [
    {
     "name": "stdout",
     "output_type": "stream",
     "text": [
      "Generation: 0 - Best Fitness: -74.6592100523479 - Number of Instructions: 200\n",
      "[2, 1, 3, 1, 2, 1, 1, 0, 2, 1, 3, 3, 2, 0, 2, 2, 1, 2, 2, 1, 0, 2, 0, 0, 2, 1, 0, 0, 3, 2, 3, 0, 0, 1, 0, 0, 1, 0, 3, 3, 0, 3, 0, 3, 1, 1, 1, 2, 2, 1, 0, 1, 1, 0, 3, 3, 1, 1, 2, 2, 2, 0, 3, 3, 0, 2, 3, 2, 1, 2, 2, 0, 3, 0, 1, 3, 3, 3, 0, 1, 2, 0, 3, 0, 2, 2, 3, 2, 3, 2, 2, 0, 2, 0, 2, 0, 0, 2, 2, 2, 0, 2, 2, 2, 0, 3, 0, 3, 0, 3, 3, 1, 0, 3, 0, 3, 1, 2, 0, 1, 0, 2, 3, 0, 1, 0, 0, 2, 0, 3, 0, 2, 3, 3, 1, 2, 3, 2, 2, 3, 2, 2, 1, 2, 0, 3, 0, 3, 3, 0, 2, 0, 1, 0, 3, 3, 3, 3, 1, 0, 3, 1, 3, 1, 1, 2, 2, 3, 3, 2, 2, 2, 3, 1, 3, 1, 2, 2, 2, 2, 1, 3, 0, 1, 2, 3, 0, 0, 1, 1, 2, 0, 0, 3, 2, 3, 3, 1, 1, 0]\n"
     ]
    }
   ],
   "source": [
    "population = Population(40)\n",
    "while population.generation < 1:\n",
    "    population.evaluate()\n",
    "    print(f\"Generation: {population.generation} - Best Fitness: {population.best_fitness} - Number of Instructions: {population.best.depth}\")\n",
    "    population.select()\n",
    "    population.crossover()\n",
    "    population.mutate()\n",
    "    population.generation += 1\n",
    "print(population.best.instructions)"
   ]
  },
  {
   "cell_type": "markdown",
   "metadata": {},
   "source": [
    "### Exercise 4: Visualize the results\n",
    "\n",
    "The fourth step is to visualize the results of the genetic programming algorithm. The visualization will show the best individual in the population at each generation."
   ]
  },
  {
   "cell_type": "code",
   "execution_count": 18,
   "metadata": {},
   "outputs": [],
   "source": [
    "population.best.env = gym.make('LunarLander-v2', render_mode=\"human\")\n",
    "population.best.evaluate()\n",
    "population.best.env.close()"
   ]
  },
  {
   "cell_type": "markdown",
   "metadata": {},
   "source": [
    "#### Exercise 5: Manipulate the parameters\n",
    "\n",
    "Now that you have implemented the genetic programming algorithm, you can manipulate the parameters of the algorithm to see how they affect the results. You can manipulate the following parameters:\n",
    "1. `Population size`: The size of the population.\n",
    "2. `Number of generations`: The number of generations to evolve the population.\n",
    "3. `Mutation rate`: The probability that an individual will mutate.\n",
    "4. `Number of instructions`: The number of instructions in the program.\n",
    "5. `Crossover type`: The type of crossover to use to reproduce the individuals.\n",
    "6. `Selection type`: The type of selection to use to select the individuals to reproduce.\n",
    "7. `Mutation type`: The type of mutation to use to mutate the individuals.\n",
    "\n",
    "You can consider that you have a good result when the fitness of the best individual is greater thant 3000. But your goal is to have the best fitness possible.\n",
    "\n",
    "> A lot of parameters can be used to have the best results. Try to accelerate the convergence of the algorithm by manipulating the parameters."
   ]
  },
  {
   "cell_type": "markdown",
   "metadata": {},
   "source": [
    "# Conclusion\n",
    "\n",
    "In this workshop, you have implemented a simple genetic programming algorithm to solve the Lunar Lander problem. You have also learned how to manipulate the parameters of the algorithm to see how they affect the results.\n",
    "\n",
    "# To go further\n",
    "\n",
    "To go further, you can try to implement a more complex genetic programming algorithm to solve the Lunar Lander problem. You can also try to implement a genetic programming algorithm to solve another reinforcement learning problem.\n",
    "\n",
    "As example, you can try to implement it to manipulate neural networks. You can also try to implement it to solve the CartPole problem."
   ]
  }
 ],
 "metadata": {
  "kernelspec": {
   "display_name": "Python 3",
   "language": "python",
   "name": "python3"
  },
  "language_info": {
   "codemirror_mode": {
    "name": "ipython",
    "version": 3
   },
   "file_extension": ".py",
   "mimetype": "text/x-python",
   "name": "python",
   "nbconvert_exporter": "python",
   "pygments_lexer": "ipython3",
   "version": "3.12.1"
  },
  "orig_nbformat": 4
 },
 "nbformat": 4,
 "nbformat_minor": 2
}
