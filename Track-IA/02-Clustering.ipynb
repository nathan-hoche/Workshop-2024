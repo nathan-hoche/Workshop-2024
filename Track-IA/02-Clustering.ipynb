{
 "cells": [
  {
   "cell_type": "markdown",
   "metadata": {},
   "source": [
    "# Workshop: Clustering and Classification with Python\n",
    "\n",
    "The objective of this workshop is to introduce you to the basics of clustering and classification with Python. We will use the [scikit-learn](http://scikit-learn.org/stable/) library, which is a very popular library for machine learning in Python. We will also use the [pandas](http://pandas.pydata.org/) library for data manipulation and the [matplotlib](http://matplotlib.org/) library for plotting (seen in the previous workshop).\n",
    "\n",
    "\n",
    "For this workshop, we will use the [Iris flower data set](https://en.wikipedia.org/wiki/Iris_flower_data_set), which is a very famous data set in machine learning. It contains 150 samples of 3 different species of iris flowers (50 samples for each species). For each sample, 4 features are measured: the length and the width of the sepals and petals, in centimeters. The goal is to classify the samples into the 3 different species based on these 4 features."
   ]
  },
  {
   "cell_type": "code",
   "execution_count": 1,
   "metadata": {},
   "outputs": [],
   "source": [
    "import pandas as pd\n",
    "import matplotlib.pyplot as plt\n",
    "import numpy as np"
   ]
  },
  {
   "cell_type": "markdown",
   "metadata": {},
   "source": [
    "#### Exercise 1: Discovering the scikit-learn library\n",
    "\n",
    "First of all, we will use the sklearn library to load the Iris data set, and use pandas to study it and plot it."
   ]
  },
  {
   "cell_type": "code",
   "execution_count": 2,
   "metadata": {},
   "outputs": [],
   "source": [
    "# Load the data \n",
    "\n",
    "# Convert it to a pandas dataframe\n",
    "\n",
    "# Display the first 5 rows of the dataframe"
   ]
  },
  {
   "cell_type": "markdown",
   "metadata": {},
   "source": [
    "#### Exercise 2: Split the data set into a training set and a test set\n",
    "\n",
    "To evaluate the performance of a classifier, we need to test it on data that it has never seen before. Therefore, we need to split the data set into a training set and a test set. We will use the training set to train the classifier, and the test set to evaluate its performance."
   ]
  },
  {
   "cell_type": "code",
   "execution_count": 3,
   "metadata": {},
   "outputs": [],
   "source": [
    "# Separate the data into a test and training set (70% training and 30% test)\n"
   ]
  },
  {
   "cell_type": "markdown",
   "metadata": {},
   "source": [
    "#### Exercise 3: Visualize the data set\n",
    "\n",
    "Before training a classifier, it is always a good idea to visualize the data set. Many ways of visualizing the data set are possible, but we will use a scatter plot of the data points, where each data point is represented by a dot, and the x and y coordinates of the dot are the values of the first and second features of the data point. We will use the pandas library to do this."
   ]
  },
  {
   "cell_type": "code",
   "execution_count": 4,
   "metadata": {},
   "outputs": [],
   "source": [
    "# Visualize the data\n"
   ]
  },
  {
   "cell_type": "markdown",
   "metadata": {},
   "source": [
    "Some questions need to be answered before studying the data set:\n",
    "\n",
    "- How many features are there?\n",
    "- What type of classification problem is this? (binary, multi-class, multi-label, ...)\n",
    "- How many classes are there?\n",
    "- Which features are the most discriminative? (i.e. which features allow to distinguish the different classes the best?)\n",
    "- Are the classes linearly separable? (i.e. can we draw a straight line to separate the classes?)"
   ]
  },
  {
   "cell_type": "markdown",
   "metadata": {},
   "source": [
    "#### Exercise 4: Identify the most discriminative features\n",
    "\n",
    "We saw in the previous exercise that the features are not equally discriminative. Some features allow to distinguish the different classes better than others. Therefore, some features can be removed without affecting the performance of the classifier. This is called feature selection.\n",
    "\n",
    "In order to select the most discriminative features, multiple methods exist. Create a feature ranking.\n",
    "\n",
    "Use sklearn to do this."
   ]
  },
  {
   "cell_type": "code",
   "execution_count": null,
   "metadata": {},
   "outputs": [],
   "source": [
    "# Establish which features are the most important\n",
    "\n",
    "# Rank the features in order of importance\n",
    "\n",
    "# Print the feature ranking"
   ]
  },
  {
   "cell_type": "markdown",
   "metadata": {},
   "source": [
    "#### Exercise 5: Train a supervised classifier\n",
    "\n",
    "Now that we know which features are the most discriminative, we can train a classifier. As this dataset is a clustering problem, we will use a clustering algorithm.\n",
    "\n",
    "In order to learn the different clustering algorithms, we will start by using a supervised classifier.\n",
    "\n",
    "You can use any clustering supervised classifier you want. But I recommend using a K-Nearest Neighbors classifier. You can find the documentation [here](http://scikit-learn.org/stable/modules/generated/sklearn.neighbors.KNeighborsClassifier.html#sklearn.neighbors.KNeighborsClassifier)."
   ]
  },
  {
   "cell_type": "code",
   "execution_count": 5,
   "metadata": {},
   "outputs": [],
   "source": [
    "# Implement a KNN classifier, train it on the training set and print the accuracy score on the training set\n",
    "\n"
   ]
  },
  {
   "cell_type": "markdown",
   "metadata": {},
   "source": [
    "#### Exercise 6: Evaluate the performance of the classifier\n",
    "\n",
    "Now that we have trained a classifier, we need to evaluate its performance. We will use the test set to do this. \n",
    "\n",
    "1. Predict the class of each sample in the test set.\n",
    "2. Compare the predicted class with the true class of each sample in the test set. (use sklearn to do this)\n",
    "3. Compute and plot the confusion matrix. (use sklearn to do this)\n",
    "\n",
    "> A confusion matrix is a table that is often used to describe the performance of a classifier on a set of test data for which the true values are known. It allows the visualization of the performance of an algorithm."
   ]
  },
  {
   "cell_type": "code",
   "execution_count": 6,
   "metadata": {},
   "outputs": [],
   "source": [
    "# Print the accuracy score on the test set\n",
    "\n",
    "\n",
    "# Print the confusion matrix\n"
   ]
  },
  {
   "cell_type": "markdown",
   "metadata": {},
   "source": [
    "#### Exercise 7: Implement an unsupervised clustering algorithm\n",
    "\n",
    "Now that we have trained a supervised classifier, we will train an unsupervised clustering algorithm. I suggest the K-Means algorithm. You can find the documentation [here](http://scikit-learn.org/stable/modules/generated/sklearn.cluster.KMeans.html#sklearn.cluster.KMeans)."
   ]
  },
  {
   "cell_type": "code",
   "execution_count": null,
   "metadata": {},
   "outputs": [],
   "source": []
  },
  {
   "cell_type": "markdown",
   "metadata": {},
   "source": [
    "#### Exercise 8: Evaluate the performance of the unsupervised clustering algorithm\n",
    "\n",
    "Now that we have trained an unsupervised clustering algorithm, we need to evaluate its performance. As done previously, we will use the test set to do this."
   ]
  },
  {
   "cell_type": "code",
   "execution_count": null,
   "metadata": {},
   "outputs": [],
   "source": []
  },
  {
   "cell_type": "markdown",
   "metadata": {},
   "source": [
    "#### Exercise 9: Plot each of the estimated clusters and the true clusters\n",
    "\n",
    "Now that we have trained and testing both algorithm. We will plot the results of each algorithm and observe the differences, and try to explain the errors of each algorithm."
   ]
  },
  {
   "cell_type": "code",
   "execution_count": null,
   "metadata": {},
   "outputs": [],
   "source": []
  },
  {
   "cell_type": "markdown",
   "metadata": {},
   "source": [
    "\n",
    "Which algorithm do you think is the best for this dataset? Why?\n",
    "\n",
    "# Challenge\n",
    "\n",
    "Now that you have trained and tested both algorithms, you can try to improve the performance of the algorithms. You can try to improve the performance of the supervised classifier by changing the parameters of the classifier, or by using a different classifier. You can also try to improve the performance of the unsupervised clustering algorithm by changing the parameters of the algorithm, or by using a different algorithm.\n",
    "\n",
    "It is also possible to improve the process to do a dimensionality reduction before training the classifier. You can try to do this.\n",
    "\n",
    "# Conclusion\n",
    "\n",
    "In this workshop, we have seen how to use the scikit-learn library to train a supervised and an unsupervised clustering algorithms. Clustering is a very important aspect of machine learning, and it is used in many applications. Such as image segmentation, document clustering, market segmentation, ...\n",
    "\n",
    "# To go further\n",
    "\n",
    "Multiple other clustering algorithms exist. You can try to use them and compare their performance. You can find a list of clustering algorithms [here](http://scikit-learn.org/stable/modules/clustering.html#clustering)."
   ]
  }
 ],
 "metadata": {
  "kernelspec": {
   "display_name": "Python 3",
   "language": "python",
   "name": "python3"
  },
  "language_info": {
   "codemirror_mode": {
    "name": "ipython",
    "version": 3
   },
   "file_extension": ".py",
   "mimetype": "text/x-python",
   "name": "python",
   "nbconvert_exporter": "python",
   "pygments_lexer": "ipython3",
   "version": "3.12.0"
  },
  "orig_nbformat": 4
 },
 "nbformat": 4,
 "nbformat_minor": 2
}
