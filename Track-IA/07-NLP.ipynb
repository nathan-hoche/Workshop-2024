{
 "cells": [
  {
   "cell_type": "markdown",
   "metadata": {},
   "source": [
    "# Workshop: Deep Learning for Natural Language Processing\n",
    "\n",
    "In this workshop, we will learn how to use deep learning for natural language processing (NLP). We will try to create are own simple chatbot. We will use the [Keras](https://keras.io/) library for the deep learning part and nltk for the NLP part.\n",
    "\n",
    "We will create a chatbot that will be able to answer predefined questions. In order to do so, you will create a json file containing the questions and the answers such as:\n",
    "\n",
    "```json\n",
    "[\n",
    "    {\n",
    "        \"tag\": \"greeting\",\n",
    "        \"question\": [\"What is your name?\", \"Who are you?\"],\n",
    "        \"answer\": [\"My name is Bob\", \"I am Bob\"]\n",
    "    },\n",
    "    {\n",
    "        \"tag\": \"color\",\n",
    "        \"question\": [\"What is your favorite color?\"],\n",
    "        \"answer\": [\"My favorite color is blue\"]\n",
    "    }\n",
    "]\n",
    "```"
   ]
  },
  {
   "cell_type": "markdown",
   "metadata": {},
   "source": [
    "#### Exercise 1: Create the json file and load it\n",
    "\n",
    "Once you have created the json file you can load it."
   ]
  },
  {
   "cell_type": "code",
   "execution_count": null,
   "metadata": {},
   "outputs": [],
   "source": []
  },
  {
   "cell_type": "markdown",
   "metadata": {},
   "source": [
    "#### Exercise 2: Lemmatize the questions\n",
    "\n",
    "Lemmatization is the process of grouping together the different inflected forms of a word so they can be analysed as a single item. For example, the words *walks*, *walking* and *walked* are all forms of the word *walk*. Lemmatization is similar to stemming but it brings context to the words. So it links words with similar meaning to one word.\n",
    "\n",
    "In this exercise, you will lemmatize all the words in the questions. You can use the [WordNetLemmatizer](https://www.nltk.org/_modules/nltk/stem/wordnet.html) from nltk."
   ]
  },
  {
   "cell_type": "code",
   "execution_count": null,
   "metadata": {},
   "outputs": [],
   "source": []
  },
  {
   "cell_type": "markdown",
   "metadata": {},
   "source": [
    "#### Exercise 3: Remove punctuation and lower the questions\n",
    "\n",
    "In this exercise, you will remove all the punctuation and the uppercase from the questions. You can use the [string.punctuation](https://docs.python.org/3/library/string.html#string.punctuation) variable from python."
   ]
  },
  {
   "cell_type": "code",
   "execution_count": null,
   "metadata": {},
   "outputs": [],
   "source": []
  },
  {
   "cell_type": "markdown",
   "metadata": {},
   "source": [
    "#### Exercise 4: Encode the words\n",
    "\n",
    "In this exercise, you will create a list of all the words in the questions without duplicates. Once you have this list, you will create a one-hot encoding for each question. In this situation, a one-hot encoding is a list of 0 and 1. The length of the list is the number of words in the list of all the words. The position of 1 in the list is the position of each word in the list of all the words."
   ]
  },
  {
   "cell_type": "code",
   "execution_count": null,
   "metadata": {},
   "outputs": [],
   "source": []
  },
  {
   "cell_type": "markdown",
   "metadata": {},
   "source": [
    "#### Exercise 5: Create your neural network\n",
    "\n",
    "In this exercise, you will create your neural network. You will use the [Sequential](https://keras.io/models/sequential/) model from Keras."
   ]
  },
  {
   "cell_type": "code",
   "execution_count": null,
   "metadata": {},
   "outputs": [],
   "source": []
  },
  {
   "cell_type": "markdown",
   "metadata": {},
   "source": [
    "#### Exercise 6: Train your neural network\n",
    "\n",
    "In order to train your neural network, you will need to define the input and the output. The input will be the one-hot encoding of the questions and the output will be the one-hot encoding of the TAGs. You will use the [to_categorical](https://keras.io/utils/#to_categorical) function from Keras to create the one-hot encoding of the TAGs."
   ]
  },
  {
   "cell_type": "code",
   "execution_count": null,
   "metadata": {},
   "outputs": [],
   "source": []
  },
  {
   "cell_type": "markdown",
   "metadata": {},
   "source": [
    "#### Exercise 7: Plot the training loss and accuracy\n",
    "\n",
    "In order to see if your neural network is learning, you will plot the training loss and accuracy. You can use the [history](https://keras.io/models/sequential/#sequential-model-methods) attribute of your model."
   ]
  },
  {
   "cell_type": "code",
   "execution_count": null,
   "metadata": {},
   "outputs": [],
   "source": []
  },
  {
   "cell_type": "markdown",
   "metadata": {},
   "source": [
    "#### Exercise 8: Predict the TAG of a question\n",
    "\n",
    "Now that you have trained your neural network, you can create a function that will predict the TAG of a question.\n",
    "\n",
    "> Tips: You can add a threshold to the prediction. For example, if the probability of the prediction is less than 0.5, you can return \"I don't understand\"."
   ]
  },
  {
   "cell_type": "code",
   "execution_count": null,
   "metadata": {},
   "outputs": [],
   "source": []
  },
  {
   "cell_type": "markdown",
   "metadata": {},
   "source": [
    "# Conclusion\n",
    "\n",
    "In this workshop, you have learned how to handle natural language processing with deep learning. You have also learned how to create a simple chatbot. You can now try to create your own chatbot with more questions and answers.\n",
    "\n",
    "# To go further\n",
    "\n",
    "To go further, now that you know how to create a chatbot with predefined questions and answers, you can try to upgrade it. You can try to add a memory system to your chatbot using the [LSTM](https://keras.io/layers/recurrent/#lstm) layer from Keras. You can also try to create a chatbot that will generate its own answers using the [Embedding](https://keras.io/layers/embeddings/) layer from Keras."
   ]
  }
 ],
 "metadata": {
  "kernelspec": {
   "display_name": "Python 3",
   "language": "python",
   "name": "python3"
  },
  "language_info": {
   "codemirror_mode": {
    "name": "ipython",
    "version": 3
   },
   "file_extension": ".py",
   "mimetype": "text/x-python",
   "name": "python",
   "nbconvert_exporter": "python",
   "pygments_lexer": "ipython3",
   "version": "3.11.7"
  },
  "orig_nbformat": 4
 },
 "nbformat": 4,
 "nbformat_minor": 2
}
